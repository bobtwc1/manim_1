from manim import *

config.media_width = "75%"
config.verbosity = "WARNING"
%%manim -qm CircleToSquare

class CircleToSquare(Scene):
    def construct(self):
        ax=NumberPlane().add_coordinates()
        M=Dot(ax.c2p(5, 3),color=RED)
        O=Dot(ax.c2p(0, 0))
        O_l=MathTex("O").next_to(ax.c2p(0,0)).scale(0.7).shift(0.2*DOWN+0.6*LEFT)
        M_l=MathTex("M",color=RED).next_to(M)
        I_l=MathTex("I").next_to(ax.c2p(1,0)).scale(0.7).shift(0.2*DOWN)
        J_l=MathTex("J").next_to(ax.c2p(0,1)).scale(0.7).shift(0.1*DOWN)
        b1=Vector([1,0], color=YELLOW)
        b2=Vector([0,1],color=YELLOW)
        b1l=b1.coordinate_label(color=YELLOW).scale(0.65).shift(LEFT+0.6*DOWN)
        b2l=b2.coordinate_label(color=YELLOW).scale(0.65).shift(LEFT+0.5*UP)
        self.play(Create(ax))
        self.wait(0.5)
        ob=VGroup(O_l,I_l,J_l)
        self.play(Write(ob))
        M_g=VGroup(M,M_l)
        self.play(Write(M_g))
        b1_g=VGroup(b1,b1l)
        self.play(Create(b1_g))
        b2_g=VGroup(b2,b2l)
        self.play(Create(b2_g))
        #end 
        count=MathTex('\overrightarrow{OI}',color=YELLOW).to_edge(UP+LEFT)
        b1c=b1.copy()
        b1_1=b1.copy()
        self.play(b1_1.animate.to_edge(UP+LEFT))
        self.play(FadeOut(b1_1))
        self.play(Write(count))
        self.play(b1c.animate.shift(RIGHT))
        self.wait(1)
        
        
        b1c_1=b1c.copy()
        count1=MathTex('2\overrightarrow{OI}',color=YELLOW).to_edge(UP+LEFT)
        self.play(FadeOut(count))
        self.play(Write(count1))
        self.play(b1c_1.animate.shift(RIGHT))
        self.wait(1)
        
        
        b1c_2=b1c_1.copy()
        count2=MathTex('3\overrightarrow{OI}',color=YELLOW).to_edge(UP+LEFT)
        self.play(FadeOut(count1))
        self.play(Write(count2))
        self.play(b1c_2.animate.shift(RIGHT))
        self.wait(1)
        
        
        b1c_3=b1c_2.copy()
        count3=MathTex('4\overrightarrow{OI}',color=YELLOW).to_edge(UP+LEFT)
        self.play(FadeOut(count2))
        self.play(Write(count3))
        self.play(b1c_3.animate.shift(RIGHT))
        self.wait(1)
        count4=MathTex('5\overrightarrow{OI}',color=YELLOW).to_edge(UP+LEFT)
        self.play(FadeOut(count3))
        self.play(Write(count4))
        self.wait(1.5)
        
        
        #end of vector basis 1
        b2c=b2.copy()
        self.play(b2c.animate.shift(5*RIGHT))
        self.wait(1)
        b2_2=b2c.copy()
        self.play(b2_2.animate.next_to(count4))
        self.wait(1)

        count=MathTex('5\overrightarrow{OI}+\overrightarrow{OJ}',color=YELLOW).to_edge(UP+LEFT)
        self.play(FadeOut(b2_2,count4))
        self.play(Write(count))
        
        b2c_1=b2c.copy()
        self.play(b2c_1.animate.shift(UP))
        self.wait(1)
        count1=MathTex('5\overrightarrow{OI}+2\overrightarrow{OJ}',color=YELLOW).to_edge(UP+LEFT)
        self.play(FadeOut(count))
        self.play(Write(count1))
        self.wait(1)
        
        b2c_2=b2c_1.copy()
        self.play(b2c_2.animate.shift(UP))
        self.wait(1)
        count2=MathTex('5\overrightarrow{OI}+3\overrightarrow{OJ}',color=YELLOW).to_edge(UP+LEFT)
        self.play(FadeOut(count1))
        self.play(Write(count2))
        self.wait(1)
        
        self.wait(2)
        OM=Vector([5,3])
        OM_l=MathTex('\overrightarrow{OM}').shift(2*UP+2*RIGHT)
        self.play(Create(OM))
        self.play(Create(OM_l))
        self.wait(1)
        self.play(FadeOut(count2))
        self.wait(1)
        
        proof=MathTex('\overrightarrow{OM}=5\overrightarrow{OI}+3\overrightarrow{OJ}',color=YELLOW).scale(2).to_edge(DOWN)
        self.play(Write(proof))
        framebox = SurroundingRectangle(proof, buff = .1)
        self.play(Create(framebox))
        self.wait(2)
        M_coords=MathTex('M(5,3)', color=RED).next_to(M)
        self.play(Transform(M_l,M_coords))
        self.wait(4)
